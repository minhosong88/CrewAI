{
 "cells": [
  {
   "cell_type": "code",
   "execution_count": 1,
   "metadata": {},
   "outputs": [
    {
     "data": {
      "text/plain": [
       "True"
      ]
     },
     "execution_count": 1,
     "metadata": {},
     "output_type": "execute_result"
    }
   ],
   "source": [
    "from dotenv import load_dotenv\n",
    "\n",
    "load_dotenv()\n"
   ]
  },
  {
   "cell_type": "code",
   "execution_count": 1,
   "metadata": {},
   "outputs": [],
   "source": [
    "from pydantic import BaseModel\n",
    "from typing import List\n",
    "# A blog post with an introduction, at least three sub-sections of content, links to sources, a set of suggested hashtags for social media and a catchy title.\n",
    "# Make classes based on the output description\n",
    "class SubSection(BaseModel):\n",
    "    title:str\n",
    "    content:str\n",
    "\n",
    "class BlogPost(BaseModel):\n",
    "    title:str\n",
    "    introduction:str\n",
    "    sections: List[SubSection]\n",
    "    sources: List[str]\n",
    "    hashtags: List[str]\n",
    "    \n",
    "    # By doing this, you can approach the data by result.sections, result.sections[i].title or result.sections[i].content etc."
   ]
  },
  {
   "cell_type": "code",
   "execution_count": 2,
   "metadata": {},
   "outputs": [],
   "source": [
    "from crewai import Crew, Agent, Task\n",
    "from crewai_tools import SerperDevTool, ScrapeWebsiteTool, YoutubeChannelSearchTool"
   ]
  },
  {
   "cell_type": "code",
   "execution_count": 3,
   "metadata": {},
   "outputs": [],
   "source": [
    "search_tool = SerperDevTool()\n",
    "scrape_tool = ScrapeWebsiteTool()\n",
    "youtube_tool = YoutubeChannelSearchTool()\n",
    "# tool - YoutubeChannelSearchTool(youtube_channel_handle='@exampleChannel')"
   ]
  },
  {
   "cell_type": "code",
   "execution_count": 7,
   "metadata": {},
   "outputs": [],
   "source": [
    "researcher = Agent(\n",
    "    role=\"Senior Researcher\",\n",
    "    goal=\"Search the web, extract and analyze information\",\n",
    "    backstory=\"\"\"\n",
    "    You produce the highest quality research possible.\n",
    "    You use multiple sources of information and you always double check your sources to make sure they are true and up-to-date.\n",
    "    You want to impress your coworkers with your work.\n",
    "    \"\"\",\n",
    "    allow_delegation=False,\n",
    "    verbose=True,\n",
    "    # max_iter/ max_execution_time can be used to limit the number of tokens used for the task.\n",
    "    tools=[\n",
    "        search_tool,\n",
    "        scrape_tool,\n",
    "        youtube_tool,\n",
    "    ],\n",
    "    max_iter=10,\n",
    ")\n",
    "\n",
    "marketer = Agent(\n",
    "    role=\"Senior Marketer\",\n",
    "    goal=\"Come up with ideas that generate viral and useful content.\",\n",
    "    backstory=\"\"\"\n",
    "    You work at a marketing agency.\n",
    "    You are the best at coming up with ideas to make content go viral.\n",
    "    Your ideas are used for video, advertising, social media marketing, the content you produce appeals to young audience.\n",
    "    \"\"\",\n",
    "    verbose=True\n",
    ")\n",
    "\n",
    "writer = Agent(\n",
    "    role=\"Senior Writer\",\n",
    "    goal=\"Write scripts for viral Youtube videos.\",\n",
    "    backstory=\"\"\"\n",
    "    You write scripts for videos that keep people engaged and entertained.\n",
    "    Your content is easy and fun to watch, it is informative and it makes people want to share it with their friends.\n",
    "    You are working for a very important client.\n",
    "    \"\"\",\n",
    "    verbose=True,\n",
    ")\n"
   ]
  },
  {
   "cell_type": "code",
   "execution_count": 8,
   "metadata": {},
   "outputs": [],
   "source": [
    "brainstorm_task = Task(\n",
    "    description=\"Come up with 5 video ideas for a Youtube channel in the {industry} industry.\",\n",
    "    agent=marketer,\n",
    "    expected_output=\"Your answer Must be a list of 5 ideas for a Youtube video with an explanation of what the angle of the video would be\",\n",
    "    output_file=\"ideas_task.md\",\n",
    "    human_input=True,\n",
    ")\n",
    "\n",
    "select_task = Task(\n",
    "    description=\"Select a video idea that has the highest potential of going viral\",\n",
    "    agent=writer,\n",
    "    expected_output=\"Your answer Must include the idea that was selected as well as an explanation of why that selection was made.\",\n",
    "    human_input=True,\n",
    "    context=[\n",
    "        brainstorm_task,\n",
    "    ],\n",
    "    output_file=\"selection_task.md\",\n",
    "    \n",
    ")\n",
    "\n",
    "research_task = Task(\n",
    "    description=\"Do all the research required to write the script of a medium length video about the selected idea.\",\n",
    "    agent=researcher,\n",
    "    expected_output=\"Your answer MUST have all the information a writer would need to write a Youtube script.\",\n",
    "    async_execution=True,\n",
    "    context=[\n",
    "        select_task,\n",
    "    ],\n",
    "    output_file=\"researcher_task.md\",\n",
    ")\n",
    "\n",
    "competitors_task = Task(\n",
    "    description=\"Search for videos or articles in the {industry} industry that are similar to the video idea we are working on and suggest ways our video can be different from theirs.\",\n",
    "    agent=researcher,\n",
    "    expected_output=\"Your answer MUST have a list of suggestions writer can follow to make sure the video is as unique and as different from competitors as possible.\",\n",
    "    async_execution=True,\n",
    "    context=[\n",
    "        select_task,\n",
    "    ],\n",
    "    output_file=\"competitors_task.md\",\n",
    ")\n",
    "\n",
    "inspiration_task = Task(\n",
    "    description=\"Search for videos or articles that are similar to the video idea we are working on but from other industries\",\n",
    "    agent=researcher,\n",
    "    expected_output=\"Your answer MUST have a list of examples of articles and videos that have a similar angle as the video we are making but that are in different industries.\",\n",
    "    async_execution=True,\n",
    "    context=[\n",
    "        select_task,\n",
    "    ],\n",
    "    output_file=\"inspiration_task.md\",\n",
    ")\n",
    "\n",
    "script_task = Task(\n",
    "    description=\"Write the script for a Youtube video for a channel in the {industry} industry.\",\n",
    "    agent=writer,\n",
    "    expected_output=\"A script for a Youtube video witha title, an introduction, at least three sections, and an outro. Make sure to include the prompt to generate a thumnail for the video as well.\",\n",
    "    context=[\n",
    "        select_task,\n",
    "        research_task,\n",
    "        competitors_task,\n",
    "        inspiration_task,\n",
    "    ],\n",
    "    output_file=\"script_task.md\",\n",
    ")"
   ]
  },
  {
   "cell_type": "code",
   "execution_count": 10,
   "metadata": {},
   "outputs": [],
   "source": [
    "crew = Crew(\n",
    "    agents=[\n",
    "        researcher,\n",
    "        writer,\n",
    "        marketer,\n",
    "    ],\n",
    "    tasks=[\n",
    "        brainstorm_task,\n",
    "        select_task,\n",
    "        research_task,\n",
    "        inspiration_task,\n",
    "        competitors_task,\n",
    "        script_task,\n",
    "    ],\n",
    "    verbose=2,\n",
    ")"
   ]
  },
  {
   "cell_type": "code",
   "execution_count": null,
   "metadata": {},
   "outputs": [],
   "source": [
    "result = crew.kickoff(\n",
    "    inputs=dict(\n",
    "        industry=\"Hot sauce\",\n",
    "    )\n",
    ")"
   ]
  }
 ],
 "metadata": {
  "kernelspec": {
   "display_name": ".venv",
   "language": "python",
   "name": "python3"
  },
  "language_info": {
   "codemirror_mode": {
    "name": "ipython",
    "version": 3
   },
   "file_extension": ".py",
   "mimetype": "text/x-python",
   "name": "python",
   "nbconvert_exporter": "python",
   "pygments_lexer": "ipython3",
   "version": "3.12.4"
  },
  "orig_nbformat": 4
 },
 "nbformat": 4,
 "nbformat_minor": 2
}
